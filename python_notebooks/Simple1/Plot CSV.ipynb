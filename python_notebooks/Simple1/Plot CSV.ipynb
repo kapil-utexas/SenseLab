{
 "cells": [
  {
   "cell_type": "code",
   "execution_count": 1,
   "metadata": {
    "collapsed": true
   },
   "outputs": [],
   "source": [
    "import numpy as np"
   ]
  },
  {
   "cell_type": "code",
   "execution_count": 2,
   "metadata": {
    "collapsed": true
   },
   "outputs": [],
   "source": [
    "dataset = np.loadtxt(\"data.csv\", delimiter=\",\")"
   ]
  },
  {
   "cell_type": "code",
   "execution_count": 3,
   "metadata": {
    "collapsed": false
   },
   "outputs": [
    {
     "data": {
      "text/plain": [
       "array([[ 12.5641,  82.3077,   0.    ],\n",
       "       [ 16.1538,  85.3846,   0.    ],\n",
       "       [ 17.9487,  76.9231,   0.    ],\n",
       "       [ 22.3077,  83.4615,   0.    ],\n",
       "       [ 12.8205,  79.2308,   0.    ],\n",
       "       [ 16.4103,  70.3846,   0.    ],\n",
       "       [ 24.8718,  72.6923,   0.    ],\n",
       "       [ 20.7692,  74.6154,   0.    ],\n",
       "       [ 24.6154,  79.6154,   0.    ],\n",
       "       [ 26.6667,  88.4615,   0.    ],\n",
       "       [ 19.4872,  91.5385,   0.    ],\n",
       "       [ 17.1795,  76.1538,   0.    ],\n",
       "       [ 19.4872,  57.6923,   0.    ],\n",
       "       [ 25.1282,  66.1538,   0.    ],\n",
       "       [ 18.4615,  67.3077,   0.    ],\n",
       "       [ 23.3333,  65.3846,   0.    ],\n",
       "       [ 23.3333,  60.3846,   0.    ],\n",
       "       [ 33.5897,  67.6923,   0.    ],\n",
       "       [ 27.4359,  71.5385,   0.    ],\n",
       "       [ 28.4615,  80.3846,   0.    ],\n",
       "       [ 33.3333,  83.4615,   0.    ],\n",
       "       [ 31.7949,  77.6923,   0.    ],\n",
       "       [ 30.    ,  71.1538,   0.    ],\n",
       "       [ 37.6923,  72.6923,   0.    ],\n",
       "       [ 31.2821,  56.1538,   0.    ],\n",
       "       [ 28.9744,  61.1538,   0.    ],\n",
       "       [ 26.9231,  52.3077,   0.    ],\n",
       "       [ 32.8205,  58.8462,   0.    ],\n",
       "       [ 36.1538,  64.6154,   0.    ],\n",
       "       [ 64.359 ,  66.1538,   1.    ],\n",
       "       [ 60.7692,  51.5385,   1.    ],\n",
       "       [ 68.2051,  53.0769,   1.    ],\n",
       "       [ 64.1026,  56.9231,   1.    ],\n",
       "       [ 68.7179,  62.6923,   1.    ],\n",
       "       [ 73.0769,  62.6923,   1.    ],\n",
       "       [ 73.8462,  69.6154,   1.    ],\n",
       "       [ 70.    ,  71.9231,   1.    ],\n",
       "       [ 64.359 ,  75.3846,   1.    ],\n",
       "       [ 60.    ,  63.8462,   1.    ],\n",
       "       [ 57.6923,  56.1538,   1.    ],\n",
       "       [ 54.359 ,  68.4615,   1.    ],\n",
       "       [ 57.9487,  69.6154,   1.    ],\n",
       "       [ 53.8462,  62.6923,   1.    ],\n",
       "       [ 54.6154,  46.5385,   1.    ],\n",
       "       [ 62.0513,  46.5385,   1.    ],\n",
       "       [ 68.4615,  46.5385,   1.    ],\n",
       "       [ 75.1282,  54.6154,   1.    ],\n",
       "       [ 73.8462,  41.5385,   1.    ],\n",
       "       [ 72.3077,  49.6154,   1.    ],\n",
       "       [ 83.5897,  52.3077,   1.    ],\n",
       "       [ 77.6923,  59.2308,   1.    ],\n",
       "       [ 78.7179,  51.5385,   1.    ],\n",
       "       [ 75.8974,  43.8462,   1.    ]])"
      ]
     },
     "execution_count": 3,
     "metadata": {},
     "output_type": "execute_result"
    }
   ],
   "source": [
    "dataset"
   ]
  },
  {
   "cell_type": "code",
   "execution_count": 4,
   "metadata": {
    "collapsed": true
   },
   "outputs": [],
   "source": [
    "import matplotlib.pyplot as plt"
   ]
  },
  {
   "cell_type": "code",
   "execution_count": 5,
   "metadata": {
    "collapsed": true
   },
   "outputs": [],
   "source": [
    "%matplotlib inline"
   ]
  },
  {
   "cell_type": "code",
   "execution_count": 6,
   "metadata": {
    "collapsed": false
   },
   "outputs": [
    {
     "data": {
      "text/plain": [
       "<matplotlib.collections.PathCollection at 0x11239a048>"
      ]
     },
     "execution_count": 6,
     "metadata": {},
     "output_type": "execute_result"
    },
    {
     "data": {
      "image/png": "[encoded data removed]",
      "text/plain": [
       "<matplotlib.figure.Figure at 0x10c98d780>"
      ]
     },
     "metadata": {},
     "output_type": "display_data"
    }
   ],
   "source": [
    "plt.scatter(dataset[:,0],dataset[:,1], c='blue', s=10)"
   ]
  },
  {
   "cell_type": "code",
   "execution_count": null,
   "metadata": {
    "collapsed": true
   },
   "outputs": [],
   "source": [
    "plt.show()"
   ]
  },
  {
   "cell_type": "code",
   "execution_count": null,
   "metadata": {
    "collapsed": true
   },
   "outputs": [],
   "source": []
  }
 ],
 "metadata": {
  "anaconda-cloud": {},
  "kernelspec": {
   "display_name": "Python [Root]",
   "language": "python",
   "name": "Python [Root]"
  },
  "language_info": {
   "codemirror_mode": {
    "name": "ipython",
    "version": 3
   },
   "file_extension": ".py",
   "mimetype": "text/x-python",
   "name": "python",
   "nbconvert_exporter": "python",
   "pygments_lexer": "ipython3",
   "version": "3.5.2"
  }
 },
 "nbformat": 4,
 "nbformat_minor": 0
}
